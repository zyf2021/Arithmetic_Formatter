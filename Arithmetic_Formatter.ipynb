{
  "nbformat": 4,
  "nbformat_minor": 0,
  "metadata": {
    "colab": {
      "provenance": [],
      "collapsed_sections": [],
      "authorship_tag": "ABX9TyOMhDSEkIedXpPhYCFud+4y",
      "include_colab_link": true
    },
    "kernelspec": {
      "name": "python3",
      "display_name": "Python 3"
    },
    "language_info": {
      "name": "python"
    }
  },
  "cells": [
    {
      "cell_type": "markdown",
      "metadata": {
        "id": "view-in-github",
        "colab_type": "text"
      },
      "source": [
        "<a href=\"https://colab.research.google.com/github/zyf2021/Arithmetic_Formatter/blob/main/Arithmetic_Formatter.ipynb\" target=\"_parent\"><img src=\"https://colab.research.google.com/assets/colab-badge.svg\" alt=\"Open In Colab\"/></a>"
      ]
    },
    {
      "cell_type": "code",
      "source": [
        "def get_dashes(n):\n",
        "  dashes = ''\n",
        "  for i in range(n+1):\n",
        "    dashes += '-'\n",
        "  return dashes"
      ],
      "metadata": {
        "id": "1odkSQgrKvB0"
      },
      "execution_count": 1,
      "outputs": []
    },
    {
      "cell_type": "code",
      "source": [
        "def get_spaces(n, len_1, len_2):\n",
        "  n = abs(len_1 - len_2)\n",
        "  spaces = ''\n",
        "  for i in range(n):\n",
        "    spaces += ' '\n",
        "  return spaces"
      ],
      "metadata": {
        "id": "RDGO_2qJKvKB"
      },
      "execution_count": 2,
      "outputs": []
    },
    {
      "cell_type": "code",
      "source": [
        "def form_str_right(str_to_format, max_len, str_to_format_1 = '', sign = ''):\n",
        "  #str_format - это текущая строка с числом\n",
        "  #max_len - максимальная необходимая длина строки\n",
        "  #str_to_format_1 - строка первого слагаемого для вычисления количтсева пробелов от знака до вторго числа\n",
        "  #знак\n",
        "  if sign == '':\n",
        "    n_spaces = max_len - len(str_to_format)\n",
        "    str_spaces = ' '\n",
        "    for i in range(n_spaces):\n",
        "      str_spaces += ' '\n",
        "  if (sign != '')&(str_to_format_1 != ''):\n",
        "    n_spaces =  abs(len(str_to_format) - len(str_to_format_1))\n",
        "    str_spaces = sign + ' '\n",
        "    for i in range(n_spaces):\n",
        "      str_spaces += ' '\n",
        "  return str_spaces + str_to_format + '    '"
      ],
      "metadata": {
        "id": "Vk4lOQ2GKvSy"
      },
      "execution_count": 3,
      "outputs": []
    },
    {
      "cell_type": "code",
      "source": [],
      "metadata": {
        "id": "1sUCgTOJ9IWx"
      },
      "execution_count": null,
      "outputs": []
    },
    {
      "cell_type": "code",
      "source": [
        "##%%time\n",
        "answers = []\n",
        "str_term = []\n",
        "str_term_2 = []\n",
        "str_term_3 = []\n",
        "str_term_4 = []\n",
        "for i in range(len(a_list)):\n",
        "  str_split = a_list[i].split()\n",
        "  max_len = max(len(str_split[0]),len(str_split[2])) + 1\n",
        "  if (str_split[1] == '+'):\n",
        "    answers.append(int(str_split[0])+int(str_split[2]))\n",
        "  if (str_split[1] == '-'):\n",
        "    answers.append(int(str_split[0])-int(str_split[2]))\n",
        "  str_term.append(form_str_right(str_split[0], max_len))\n",
        "  ##форматирование должно учитывать\n",
        "  #str_term_2.append(str_split[1]+get_spaces(max_len,len(str_split[0]),len(str_split[2]))+str_split[2]+'    ')\n",
        "  str_term_2.append(form_str_right(str_split[2],max_len, str_split[0], str_split[1]))\n",
        "  str_term_3.append(get_dashes(max_len) + '    ')\n",
        "  str_term_4.append(form_str_right(str(answers[i]), max_len))"
      ],
      "metadata": {
        "id": "-gcVllkfGMut"
      },
      "execution_count": 16,
      "outputs": []
    },
    {
      "cell_type": "code",
      "source": [
        "for i in range(4):\n",
        "  print(str_term[i],  end = \"\") \n",
        "print()\n",
        "for i in range(4):\n",
        "  print(str_term_2[i],  end = \"\")\n",
        "print()\n",
        "for i in range(4):\n",
        "  print(str_term_3[i],  end = \"\")\n",
        "print()\n",
        "for i in range(4):\n",
        "  print(str_term_4[i],  end = \"\")    "
      ],
      "metadata": {
        "colab": {
          "base_uri": "https://localhost:8080/"
        },
        "id": "fs7h3oxoWcyf",
        "outputId": "643bee39-b956-49f1-fb6a-55e92d9b32c0"
      },
      "execution_count": 32,
      "outputs": [
        {
          "output_type": "stream",
          "name": "stdout",
          "text": [
            "  32      3801      45      123    \n",
            "+ 69    -    2    + 43    +  49    \n",
            "----    ------    ----    -----    \n",
            " 101      3799      88      172    "
          ]
        }
      ]
    },
    {
      "cell_type": "code",
      "source": [
        "def arithmetic_arranger(a_list, flag = False):\n",
        "  answers = []\n",
        "  str_term = []\n",
        "  str_term_2 = []\n",
        "  str_term_3 = []\n",
        "  str_term_4 = []\n",
        "  for i in range(len(a_list)):\n",
        "    str_split = a_list[i].split()\n",
        "    max_len = max(len(str_split[0]),len(str_split[2])) + 1\n",
        "    if (str_split[1] == '+'):\n",
        "      answers.append(int(str_split[0])+int(str_split[2]))\n",
        "    if (str_split[1] == '-'):\n",
        "      answers.append(int(str_split[0])-int(str_split[2]))\n",
        "    if ((str_split[1] != '+') and (str_split[1] != '-') ):\n",
        "      return 'Ошибка! Знак может быть + или -'\n",
        "    str_term.append(form_str_right(str_split[0], max_len))\n",
        "    ##форматирование должно учитывать\n",
        "    #str_term_2.append(str_split[1]+get_spaces(max_len,len(str_split[0]),len(str_split[2]))+str_split[2]+'    ')\n",
        "    str_term_2.append(form_str_right(str_split[2],max_len, str_split[0], str_split[1]))\n",
        "    str_term_3.append(get_dashes(max_len) + '    ')\n",
        "    str_term_4.append(form_str_right(str(answers[i]), max_len))\n",
        "  for i in range(4):\n",
        "    print(str_term[i],  end = \"\") \n",
        "  print()\n",
        "  for i in range(4):\n",
        "    print(str_term_2[i],  end = \"\")\n",
        "  print()\n",
        "  for i in range(4):\n",
        "    print(str_term_3[i],  end = \"\")\n",
        "  if flag:\n",
        "    print()\n",
        "    for i in range(4):\n",
        "      print(str_term_4[i],  end = \"\") \n",
        "  #return 'скоро новое обновление!'"
      ],
      "metadata": {
        "id": "bcURPnAu7-WR"
      },
      "execution_count": 7,
      "outputs": []
    },
    {
      "cell_type": "code",
      "source": [
        "a_list = [\"32 - 69\", \"rtry - 2\", \"45 + 43\", \"123 + 49\"]\n",
        "arithmetic_arranger(a_list, True)"
      ],
      "metadata": {
        "id": "MEZYrkDD9DyX",
        "colab": {
          "base_uri": "https://localhost:8080/",
          "height": 304
        },
        "outputId": "bddaa8c5-1fd3-48fb-90aa-f05ce250c442"
      },
      "execution_count": 11,
      "outputs": [
        {
          "output_type": "error",
          "ename": "ValueError",
          "evalue": "ignored",
          "traceback": [
            "\u001b[0;31m---------------------------------------------------------------------------\u001b[0m",
            "\u001b[0;31mValueError\u001b[0m                                Traceback (most recent call last)",
            "\u001b[0;32m<ipython-input-11-370c902e89dd>\u001b[0m in \u001b[0;36m<module>\u001b[0;34m\u001b[0m\n\u001b[1;32m      1\u001b[0m \u001b[0ma_list\u001b[0m \u001b[0;34m=\u001b[0m \u001b[0;34m[\u001b[0m\u001b[0;34m\"32 - 69\"\u001b[0m\u001b[0;34m,\u001b[0m \u001b[0;34m\"rtry - 2\"\u001b[0m\u001b[0;34m,\u001b[0m \u001b[0;34m\"45 + 43\"\u001b[0m\u001b[0;34m,\u001b[0m \u001b[0;34m\"123 + 49\"\u001b[0m\u001b[0;34m]\u001b[0m\u001b[0;34m\u001b[0m\u001b[0;34m\u001b[0m\u001b[0m\n\u001b[0;32m----> 2\u001b[0;31m \u001b[0marithmetic_arranger\u001b[0m\u001b[0;34m(\u001b[0m\u001b[0ma_list\u001b[0m\u001b[0;34m,\u001b[0m \u001b[0;32mTrue\u001b[0m\u001b[0;34m)\u001b[0m\u001b[0;34m\u001b[0m\u001b[0;34m\u001b[0m\u001b[0m\n\u001b[0m",
            "\u001b[0;32m<ipython-input-7-06ad95a31260>\u001b[0m in \u001b[0;36marithmetic_arranger\u001b[0;34m(a_list, flag)\u001b[0m\n\u001b[1;32m     11\u001b[0m       \u001b[0manswers\u001b[0m\u001b[0;34m.\u001b[0m\u001b[0mappend\u001b[0m\u001b[0;34m(\u001b[0m\u001b[0mint\u001b[0m\u001b[0;34m(\u001b[0m\u001b[0mstr_split\u001b[0m\u001b[0;34m[\u001b[0m\u001b[0;36m0\u001b[0m\u001b[0;34m]\u001b[0m\u001b[0;34m)\u001b[0m\u001b[0;34m+\u001b[0m\u001b[0mint\u001b[0m\u001b[0;34m(\u001b[0m\u001b[0mstr_split\u001b[0m\u001b[0;34m[\u001b[0m\u001b[0;36m2\u001b[0m\u001b[0;34m]\u001b[0m\u001b[0;34m)\u001b[0m\u001b[0;34m)\u001b[0m\u001b[0;34m\u001b[0m\u001b[0;34m\u001b[0m\u001b[0m\n\u001b[1;32m     12\u001b[0m     \u001b[0;32mif\u001b[0m \u001b[0;34m(\u001b[0m\u001b[0mstr_split\u001b[0m\u001b[0;34m[\u001b[0m\u001b[0;36m1\u001b[0m\u001b[0;34m]\u001b[0m \u001b[0;34m==\u001b[0m \u001b[0;34m'-'\u001b[0m\u001b[0;34m)\u001b[0m\u001b[0;34m:\u001b[0m\u001b[0;34m\u001b[0m\u001b[0;34m\u001b[0m\u001b[0m\n\u001b[0;32m---> 13\u001b[0;31m       \u001b[0manswers\u001b[0m\u001b[0;34m.\u001b[0m\u001b[0mappend\u001b[0m\u001b[0;34m(\u001b[0m\u001b[0mint\u001b[0m\u001b[0;34m(\u001b[0m\u001b[0mstr_split\u001b[0m\u001b[0;34m[\u001b[0m\u001b[0;36m0\u001b[0m\u001b[0;34m]\u001b[0m\u001b[0;34m)\u001b[0m\u001b[0;34m-\u001b[0m\u001b[0mint\u001b[0m\u001b[0;34m(\u001b[0m\u001b[0mstr_split\u001b[0m\u001b[0;34m[\u001b[0m\u001b[0;36m2\u001b[0m\u001b[0;34m]\u001b[0m\u001b[0;34m)\u001b[0m\u001b[0;34m)\u001b[0m\u001b[0;34m\u001b[0m\u001b[0;34m\u001b[0m\u001b[0m\n\u001b[0m\u001b[1;32m     14\u001b[0m     \u001b[0;32mif\u001b[0m \u001b[0;34m(\u001b[0m\u001b[0;34m(\u001b[0m\u001b[0mstr_split\u001b[0m\u001b[0;34m[\u001b[0m\u001b[0;36m1\u001b[0m\u001b[0;34m]\u001b[0m \u001b[0;34m!=\u001b[0m \u001b[0;34m'+'\u001b[0m\u001b[0;34m)\u001b[0m \u001b[0;32mand\u001b[0m \u001b[0;34m(\u001b[0m\u001b[0mstr_split\u001b[0m\u001b[0;34m[\u001b[0m\u001b[0;36m1\u001b[0m\u001b[0;34m]\u001b[0m \u001b[0;34m!=\u001b[0m \u001b[0;34m'-'\u001b[0m\u001b[0;34m)\u001b[0m \u001b[0;34m)\u001b[0m\u001b[0;34m:\u001b[0m\u001b[0;34m\u001b[0m\u001b[0;34m\u001b[0m\u001b[0m\n\u001b[1;32m     15\u001b[0m       \u001b[0;32mreturn\u001b[0m \u001b[0;34m'Ошибка! Знак может быть + или -'\u001b[0m\u001b[0;34m\u001b[0m\u001b[0;34m\u001b[0m\u001b[0m\n",
            "\u001b[0;31mValueError\u001b[0m: invalid literal for int() with base 10: 'rtry'"
          ]
        }
      ]
    }
  ]
}