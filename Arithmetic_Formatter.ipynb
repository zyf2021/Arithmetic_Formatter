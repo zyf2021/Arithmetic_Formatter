{
  "nbformat": 4,
  "nbformat_minor": 0,
  "metadata": {
    "colab": {
      "provenance": [],
      "collapsed_sections": [],
      "authorship_tag": "ABX9TyMNTvfjYiltcUknvQ1Wk9d7",
      "include_colab_link": true
    },
    "kernelspec": {
      "name": "python3",
      "display_name": "Python 3"
    },
    "language_info": {
      "name": "python"
    }
  },
  "cells": [
    {
      "cell_type": "markdown",
      "metadata": {
        "id": "view-in-github",
        "colab_type": "text"
      },
      "source": [
        "<a href=\"https://colab.research.google.com/github/zyf2021/Arithmetic_Formatter/blob/main/Arithmetic_Formatter.ipynb\" target=\"_parent\"><img src=\"https://colab.research.google.com/assets/colab-badge.svg\" alt=\"Open In Colab\"/></a>"
      ]
    },
    {
      "cell_type": "code",
      "source": [
        "def get_dashes(n):\n",
        "  dashes = ''\n",
        "  for i in range(n+1):\n",
        "    dashes += '-'\n",
        "  return dashes"
      ],
      "metadata": {
        "id": "1odkSQgrKvB0"
      },
      "execution_count": 1,
      "outputs": []
    },
    {
      "cell_type": "code",
      "source": [
        "def get_spaces(n, len_1, len_2):\n",
        "  n = abs(len_1 - len_2)\n",
        "  spaces = ''\n",
        "  for i in range(n):\n",
        "    spaces += ' '\n",
        "  return spaces"
      ],
      "metadata": {
        "id": "RDGO_2qJKvKB"
      },
      "execution_count": 2,
      "outputs": []
    },
    {
      "cell_type": "code",
      "source": [
        "def form_str_right(str_to_format, max_len, str_to_format_1 = '', sign = ''):\n",
        "  #str_format - это текущая строка с числом\n",
        "  #max_len - максимальная необходимая длина строки\n",
        "  #str_to_format_1 - строка первого слагаемого для вычисления количтсева пробелов от знака до вторго числа\n",
        "  #знак\n",
        "  if sign == '':\n",
        "    n_spaces = max_len - len(str_to_format)\n",
        "    str_spaces = ' '\n",
        "    for i in range(n_spaces):\n",
        "      str_spaces += ' '\n",
        "  if (sign != '')&(str_to_format_1 != ''):\n",
        "    n_spaces =  abs(len(str_to_format) - len(str_to_format_1))\n",
        "    str_spaces = sign + ' '\n",
        "    for i in range(n_spaces):\n",
        "      str_spaces += ' '\n",
        "  return str_spaces + str_to_format + '    '"
      ],
      "metadata": {
        "id": "Vk4lOQ2GKvSy"
      },
      "execution_count": 3,
      "outputs": []
    },
    {
      "cell_type": "code",
      "source": [],
      "metadata": {
        "id": "1sUCgTOJ9IWx"
      },
      "execution_count": null,
      "outputs": []
    },
    {
      "cell_type": "code",
      "source": [
        "def arithmetic_arranger(a_list, flag = False):\n",
        "  answers = []\n",
        "  str_term = []\n",
        "  #str_term.append(array)\n",
        "  str_term_2 = []\n",
        "  str_term_3 = []\n",
        "  str_term_4 = []\n",
        "  error_count = 0\n",
        "  try :\n",
        "    for i in range(len(a_list)):\n",
        "      str_split = a_list[i].split()\n",
        "      if len(str_split[0])>4:\n",
        "        return 'Error: Numbers cannot be more than four digits.'\n",
        "      max_len = max(len(str_split[0]),len(str_split[2])) + 1\n",
        "      if (str_split[1] == '+'):\n",
        "        answers.append(int(str_split[0])+int(str_split[2]))\n",
        "      if (str_split[1] == '-'):\n",
        "        answers.append(int(str_split[0])-int(str_split[2]))\n",
        "      #if ((str_split[1] != '+') and (str_split[1] != '-') ):\n",
        "        #return 'Error: Operator must be \\'+\\' or \\'-\\.'\n",
        "      str_term.append(form_str_right(str_split[0], max_len))\n",
        "      ##форматирование должно учитывать\n",
        "      #str_term_2.append(str_split[1]+get_spaces(max_len,len(str_split[0]),len(str_split[2]))+str_split[2]+'    ')\n",
        "      str_term_2.append(form_str_right(str_split[2],max_len, str_split[0], str_split[1]))\n",
        "      str_term_3.append(get_dashes(max_len) + '    ')\n",
        "      str_term_4.append(form_str_right(str(answers[i]), max_len))\n",
        "    \n",
        "    \n",
        "    for i in range(4):\n",
        "      print(str_term[i],  end = \"\") \n",
        "    print()\n",
        "    for i in range(4):\n",
        "      print(str_term_2[i],  end = \"\")\n",
        "    print()\n",
        "    for i in range(4):\n",
        "      print(str_term_3[i],  end = \"\")\n",
        "    if flag:\n",
        "      print()\n",
        "      for i in range(4):\n",
        "        print(str_term_4[i],  end = \"\") \n",
        "  except Exception:\n",
        "    error_count += 1\n",
        "    return 'Something error!' + str(error_count)\n",
        "  #return 'скоро новое обновление!'"
      ],
      "metadata": {
        "id": "bcURPnAu7-WR"
      },
      "execution_count": 14,
      "outputs": []
    },
    {
      "cell_type": "code",
      "source": [
        "a_list = [\"re32 / 69\", \"1698 - 2\", \"45 + 43\", \"123 + 49\"]\n",
        "arithmetic_arranger(a_list, True)"
      ],
      "metadata": {
        "id": "MEZYrkDD9DyX",
        "colab": {
          "base_uri": "https://localhost:8080/",
          "height": 35
        },
        "outputId": "38a37a4f-859d-42ec-8a1f-222e27e802ef"
      },
      "execution_count": 15,
      "outputs": [
        {
          "output_type": "execute_result",
          "data": {
            "text/plain": [
              "'Something error!1'"
            ],
            "application/vnd.google.colaboratory.intrinsic+json": {
              "type": "string"
            }
          },
          "metadata": {},
          "execution_count": 15
        }
      ]
    },
    {
      "cell_type": "code",
      "source": [
        "%time\n",
        "a = []\n",
        "for i in range(5):\n",
        "  a.append([])\n",
        "a"
      ],
      "metadata": {
        "colab": {
          "base_uri": "https://localhost:8080/"
        },
        "id": "bVWHMgB3E7rS",
        "outputId": "b4882339-0252-4d04-9cad-20ef81e6770c"
      },
      "execution_count": null,
      "outputs": [
        {
          "output_type": "stream",
          "name": "stdout",
          "text": [
            "CPU times: user 5 µs, sys: 1 µs, total: 6 µs\n",
            "Wall time: 11.2 µs\n"
          ]
        },
        {
          "output_type": "execute_result",
          "data": {
            "text/plain": [
              "[[], [], [], [], []]"
            ]
          },
          "metadata": {},
          "execution_count": 22
        }
      ]
    },
    {
      "cell_type": "code",
      "source": [
        "import pandas as pd\n",
        "import numpy as np"
      ],
      "metadata": {
        "id": "N_vBy5BzFemy"
      },
      "execution_count": null,
      "outputs": []
    },
    {
      "cell_type": "code",
      "source": [
        "%time\n",
        "b = np.array([[],[],[],[],[]])\n",
        "b"
      ],
      "metadata": {
        "colab": {
          "base_uri": "https://localhost:8080/"
        },
        "id": "1eMVv8b1FhyQ",
        "outputId": "08777318-e874-400f-f710-0d1447265d75"
      },
      "execution_count": null,
      "outputs": [
        {
          "output_type": "stream",
          "name": "stdout",
          "text": [
            "CPU times: user 4 µs, sys: 0 ns, total: 4 µs\n",
            "Wall time: 9.78 µs\n"
          ]
        },
        {
          "output_type": "execute_result",
          "data": {
            "text/plain": [
              "array([], shape=(5, 0), dtype=float64)"
            ]
          },
          "metadata": {},
          "execution_count": 20
        }
      ]
    },
    {
      "cell_type": "code",
      "source": [
        "try{\n",
        "    \n",
        "}"
      ],
      "metadata": {
        "id": "HSPr7ptyNpXD"
      },
      "execution_count": null,
      "outputs": []
    },
    {
      "cell_type": "code",
      "source": [
        "for i in range(4):\n",
        "  print(str_term[i],  end = \"\") \n",
        "print()\n",
        "for i in range(4):\n",
        "  print(str_term_2[i],  end = \"\")\n",
        "print()\n",
        "for i in range(4):\n",
        "  print(str_term_3[i],  end = \"\")\n",
        "print()\n",
        "for i in range(4):\n",
        "  print(str_term_4[i],  end = \"\")    "
      ],
      "metadata": {
        "colab": {
          "base_uri": "https://localhost:8080/"
        },
        "id": "fs7h3oxoWcyf",
        "outputId": "643bee39-b956-49f1-fb6a-55e92d9b32c0"
      },
      "execution_count": null,
      "outputs": [
        {
          "output_type": "stream",
          "name": "stdout",
          "text": [
            "  32      3801      45      123    \n",
            "+ 69    -    2    + 43    +  49    \n",
            "----    ------    ----    -----    \n",
            " 101      3799      88      172    "
          ]
        }
      ]
    },
    {
      "cell_type": "code",
      "source": [
        "##%%time\n",
        "answers = []\n",
        "str_term = []\n",
        "str_term_2 = []\n",
        "str_term_3 = []\n",
        "str_term_4 = []\n",
        "for i in range(len(a_list)):\n",
        "  str_split = a_list[i].split()\n",
        "  max_len = max(len(str_split[0]),len(str_split[2])) + 1\n",
        "  if (str_split[1] == '+'):\n",
        "    answers.append(int(str_split[0])+int(str_split[2]))\n",
        "  if (str_split[1] == '-'):\n",
        "    answers.append(int(str_split[0])-int(str_split[2]))\n",
        "  str_term.append(form_str_right(str_split[0], max_len))\n",
        "  ##форматирование должно учитывать\n",
        "  #str_term_2.append(str_split[1]+get_spaces(max_len,len(str_split[0]),len(str_split[2]))+str_split[2]+'    ')\n",
        "  str_term_2.append(form_str_right(str_split[2],max_len, str_split[0], str_split[1]))\n",
        "  str_term_3.append(get_dashes(max_len) + '    ')\n",
        "  str_term_4.append(form_str_right(str(answers[i]), max_len))"
      ],
      "metadata": {
        "id": "-gcVllkfGMut"
      },
      "execution_count": null,
      "outputs": []
    }
  ]
}