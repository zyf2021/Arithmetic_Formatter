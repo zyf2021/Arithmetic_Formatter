{
  "nbformat": 4,
  "nbformat_minor": 0,
  "metadata": {
    "colab": {
      "provenance": [],
      "collapsed_sections": [],
      "authorship_tag": "ABX9TyOlVfjF4XxDJ7rJQrgHyWlb",
      "include_colab_link": true
    },
    "kernelspec": {
      "name": "python3",
      "display_name": "Python 3"
    },
    "language_info": {
      "name": "python"
    }
  },
  "cells": [
    {
      "cell_type": "markdown",
      "metadata": {
        "id": "view-in-github",
        "colab_type": "text"
      },
      "source": [
        "<a href=\"https://colab.research.google.com/github/zyf2021/Arithmetic_Formatter/blob/main/Arithmetic_Formatter.ipynb\" target=\"_parent\"><img src=\"https://colab.research.google.com/assets/colab-badge.svg\" alt=\"Open In Colab\"/></a>"
      ]
    },
    {
      "cell_type": "code",
      "source": [
        "def get_dashes(n):\n",
        "  dashes = ''\n",
        "  for i in range(n+1):\n",
        "    dashes += '-'\n",
        "  return dashes"
      ],
      "metadata": {
        "id": "1odkSQgrKvB0"
      },
      "execution_count": 9,
      "outputs": []
    },
    {
      "cell_type": "code",
      "source": [
        "def get_spaces(n, len_1, len_2):\n",
        "  n = abs(len_1 - len_2)\n",
        "  spaces = ''\n",
        "  for i in range(n):\n",
        "    spaces += ' '\n",
        "  return spaces"
      ],
      "metadata": {
        "id": "RDGO_2qJKvKB"
      },
      "execution_count": 10,
      "outputs": []
    },
    {
      "cell_type": "code",
      "source": [
        "def form_str_right(str_to_format, max_len, str_to_format_1 = '', sign = ''):\n",
        "  #str_format - это текущая строка с числом\n",
        "  #max_len - максимальная необходимая длина строки\n",
        "  #str_to_format_1 - строка первого слагаемого для вычисления количтсева пробелов от знака до вторго числа\n",
        "  #знак\n",
        "  if sign == '':\n",
        "    n_spaces = max_len - len(str_to_format)\n",
        "    str_spaces = ' '\n",
        "    for i in range(n_spaces):\n",
        "      str_spaces += ' '\n",
        "  if (sign != '')&(str_to_format_1 != ''):\n",
        "    n_spaces =  abs(len(str_to_format) - len(str_to_format_1))\n",
        "    str_spaces = sign + ' '\n",
        "    for i in range(n_spaces):\n",
        "      str_spaces += ' '\n",
        "  return str_spaces + str_to_format + '    '"
      ],
      "metadata": {
        "id": "Vk4lOQ2GKvSy"
      },
      "execution_count": 11,
      "outputs": []
    },
    {
      "cell_type": "code",
      "source": [],
      "metadata": {
        "id": "1sUCgTOJ9IWx"
      },
      "execution_count": null,
      "outputs": []
    },
    {
      "cell_type": "code",
      "source": [
        "try:\n",
        "      print(len(str_split[2]))\n",
        "      if ((len(str_split[0])>5) or (len(str_split[2]>5))):\n",
        "        #print(str_split)\n",
        "        raise BaseException\n",
        "    except:\n",
        "      return 'Error: Numbers cannot be more than four digits.'"
      ],
      "metadata": {
        "colab": {
          "base_uri": "https://localhost:8080/",
          "height": 130
        },
        "id": "N2h5junWvl-8",
        "outputId": "d5b4d50d-e16a-4238-9da4-4f3c04774c64"
      },
      "execution_count": 43,
      "outputs": [
        {
          "output_type": "error",
          "ename": "IndentationError",
          "evalue": "ignored",
          "traceback": [
            "\u001b[0;36m  File \u001b[0;32m\"<tokenize>\"\u001b[0;36m, line \u001b[0;32m6\u001b[0m\n\u001b[0;31m    except:\u001b[0m\n\u001b[0m    ^\u001b[0m\n\u001b[0;31mIndentationError\u001b[0m\u001b[0;31m:\u001b[0m unindent does not match any outer indentation level\n"
          ]
        }
      ]
    },
    {
      "cell_type": "code",
      "source": [
        "def arithmetic_arranger(a_list, flag = False):\n",
        "  str_term = []\n",
        "  str_term_2 = []\n",
        "  str_term_3 = []\n",
        "  str_term_4 = []\n",
        "  answers = []\n",
        "  number_1 = 'null'  \n",
        "  number_2 = 'null' \n",
        "  \n",
        "  try:\n",
        "    if (len(a_list)>5):\n",
        "      raise BaseException\n",
        "  except:\n",
        "    return 'Error: Too many problems.'\n",
        "  \n",
        "  for i in range(len(a_list)):\n",
        "    str_split = a_list[i].split()\n",
        "    try:\n",
        "      number_1 = int(str_split[0])\n",
        "    except:\n",
        "      \"Error: Numbers must only contain digits.\"\n",
        "    try:\n",
        "      number_2 = int(str_split[2])\n",
        "    except:\n",
        "      \"Error: Numbers must only contain digits.\"\n",
        "    try:\n",
        "      if ((str_split[1] != '+') and (str_split[1] != '-') ):\n",
        "        raise BaseException\n",
        "    except:\n",
        "      return 'Error: Operator must be \\'+\\' or \\'-\\.'\n",
        "    try:\n",
        "      if ((len(str_split[0])>4) or (len(str_split[2]>4))):\n",
        "        #print(str_split)\n",
        "        raise BaseException\n",
        "    except:\n",
        "      return 'Error: Numbers cannot be more than four digits.'\n",
        "    max_len = max(len(str_split[0]),len(str_split[2])) + 1\n",
        "    \n",
        "    if (str_split[1] == '+'):\n",
        "      answers.append(number_1 + number_2)\n",
        "    if (str_split[1] == '-'):\n",
        "      answers.append(number_1 - number_2)\n",
        "      \n",
        "    str_term.append(form_str_right(str_split[0], max_len))\n",
        "    str_term_2.append(form_str_right(str_split[2], max_len, str_split[0], str_split[1]))\n",
        "    str_term_3.append(get_dashes(max_len) + '    ')\n",
        "    str_term_4.append(form_str_right(str(answers[i]), max_len))\n",
        "    \n",
        "  for i in range(len(a_list)):\n",
        "    print(str_term[i],  end = \"\") \n",
        "  print()\n",
        "  for i in range(len(a_list)):\n",
        "    print(str_term_2[i],  end = \"\")\n",
        "  print()\n",
        "  for i in range(len(a_list)):\n",
        "    print(str_term_3[i],  end = \"\")\n",
        "  if flag:\n",
        "    print()\n",
        "    for i in range(len(a_list)):\n",
        "      print(str_term_4[i],  end = \"\") "
      ],
      "metadata": {
        "id": "bcURPnAu7-WR"
      },
      "execution_count": 81,
      "outputs": []
    },
    {
      "cell_type": "code",
      "source": [
        "a_list = [\"69 + 69\", \"169 - 2\", \"45 + 43\", \"123 + 49\"]\n",
        "arithmetic_arranger(a_list, True)"
      ],
      "metadata": {
        "id": "MEZYrkDD9DyX",
        "colab": {
          "base_uri": "https://localhost:8080/",
          "height": 35
        },
        "outputId": "abbc6962-64ba-45a0-9e8d-bf8f495610ea"
      },
      "execution_count": 83,
      "outputs": [
        {
          "output_type": "execute_result",
          "data": {
            "text/plain": [
              "'Error: Numbers cannot be more than four digits.'"
            ],
            "application/vnd.google.colaboratory.intrinsic+json": {
              "type": "string"
            }
          },
          "metadata": {},
          "execution_count": 83
        }
      ]
    },
    {
      "cell_type": "code",
      "source": [
        "%time\n",
        "a = []\n",
        "for i in range(5):\n",
        "  a.append([])\n",
        "a"
      ],
      "metadata": {
        "colab": {
          "base_uri": "https://localhost:8080/"
        },
        "id": "bVWHMgB3E7rS",
        "outputId": "ca2f3de8-0383-48b6-e31e-befce43acae4"
      },
      "execution_count": 6,
      "outputs": [
        {
          "output_type": "stream",
          "name": "stdout",
          "text": [
            "CPU times: user 4 µs, sys: 0 ns, total: 4 µs\n",
            "Wall time: 8.11 µs\n"
          ]
        },
        {
          "output_type": "execute_result",
          "data": {
            "text/plain": [
              "[[], [], [], [], []]"
            ]
          },
          "metadata": {},
          "execution_count": 6
        }
      ]
    },
    {
      "cell_type": "code",
      "source": [
        "len(a)"
      ],
      "metadata": {
        "colab": {
          "base_uri": "https://localhost:8080/"
        },
        "id": "aaKmkemWrsh6",
        "outputId": "b472d404-cdda-4522-a7ce-63fdbe9afbed"
      },
      "execution_count": 8,
      "outputs": [
        {
          "output_type": "execute_result",
          "data": {
            "text/plain": [
              "5"
            ]
          },
          "metadata": {},
          "execution_count": 8
        }
      ]
    },
    {
      "cell_type": "code",
      "source": [
        "import pandas as pd\n",
        "import numpy as np"
      ],
      "metadata": {
        "id": "N_vBy5BzFemy"
      },
      "execution_count": 2,
      "outputs": []
    },
    {
      "cell_type": "code",
      "source": [
        "%time\n",
        "b = np.array([[],[],[],[],[]])\n",
        "b"
      ],
      "metadata": {
        "colab": {
          "base_uri": "https://localhost:8080/"
        },
        "id": "1eMVv8b1FhyQ",
        "outputId": "8daa42c3-3779-444d-bf48-e0315ceb49ab"
      },
      "execution_count": 3,
      "outputs": [
        {
          "output_type": "stream",
          "name": "stdout",
          "text": [
            "CPU times: user 3 µs, sys: 1e+03 ns, total: 4 µs\n",
            "Wall time: 8.82 µs\n"
          ]
        },
        {
          "output_type": "execute_result",
          "data": {
            "text/plain": [
              "array([], shape=(5, 0), dtype=float64)"
            ]
          },
          "metadata": {},
          "execution_count": 3
        }
      ]
    },
    {
      "cell_type": "code",
      "source": [
        "b.shape"
      ],
      "metadata": {
        "colab": {
          "base_uri": "https://localhost:8080/"
        },
        "id": "0BngM_agrbzU",
        "outputId": "74374f88-3630-40bd-a724-44406cb25655"
      },
      "execution_count": 5,
      "outputs": [
        {
          "output_type": "execute_result",
          "data": {
            "text/plain": [
              "(5, 0)"
            ]
          },
          "metadata": {},
          "execution_count": 5
        }
      ]
    },
    {
      "cell_type": "code",
      "source": [
        "try{\n",
        "    \n",
        "}"
      ],
      "metadata": {
        "id": "HSPr7ptyNpXD"
      },
      "execution_count": null,
      "outputs": []
    },
    {
      "cell_type": "code",
      "source": [
        "for i in range(4):\n",
        "  print(str_term[i],  end = \"\") \n",
        "print()\n",
        "for i in range(4):\n",
        "  print(str_term_2[i],  end = \"\")\n",
        "print()\n",
        "for i in range(4):\n",
        "  print(str_term_3[i],  end = \"\")\n",
        "print()\n",
        "for i in range(4):\n",
        "  print(str_term_4[i],  end = \"\")    "
      ],
      "metadata": {
        "colab": {
          "base_uri": "https://localhost:8080/"
        },
        "id": "fs7h3oxoWcyf",
        "outputId": "643bee39-b956-49f1-fb6a-55e92d9b32c0"
      },
      "execution_count": null,
      "outputs": [
        {
          "output_type": "stream",
          "name": "stdout",
          "text": [
            "  32      3801      45      123    \n",
            "+ 69    -    2    + 43    +  49    \n",
            "----    ------    ----    -----    \n",
            " 101      3799      88      172    "
          ]
        }
      ]
    },
    {
      "cell_type": "code",
      "source": [
        "##%%time\n",
        "answers = []\n",
        "str_term = []\n",
        "str_term_2 = []\n",
        "str_term_3 = []\n",
        "str_term_4 = []\n",
        "for i in range(len(a_list)):\n",
        "  str_split = a_list[i].split()\n",
        "  max_len = max(len(str_split[0]),len(str_split[2])) + 1\n",
        "  if (str_split[1] == '+'):\n",
        "    answers.append(int(str_split[0])+int(str_split[2]))\n",
        "  if (str_split[1] == '-'):\n",
        "    answers.append(int(str_split[0])-int(str_split[2]))\n",
        "  str_term.append(form_str_right(str_split[0], max_len))\n",
        "  ##форматирование должно учитывать\n",
        "  #str_term_2.append(str_split[1]+get_spaces(max_len,len(str_split[0]),len(str_split[2]))+str_split[2]+'    ')\n",
        "  str_term_2.append(form_str_right(str_split[2],max_len, str_split[0], str_split[1]))\n",
        "  str_term_3.append(get_dashes(max_len) + '    ')\n",
        "  str_term_4.append(form_str_right(str(answers[i]), max_len))"
      ],
      "metadata": {
        "id": "-gcVllkfGMut"
      },
      "execution_count": null,
      "outputs": []
    }
  ]
}