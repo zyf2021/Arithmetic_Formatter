{
  "nbformat": 4,
  "nbformat_minor": 0,
  "metadata": {
    "colab": {
      "provenance": [],
      "collapsed_sections": [],
      "authorship_tag": "ABX9TyNcpBVObJic4lJShBw/6NMO",
      "include_colab_link": true
    },
    "kernelspec": {
      "name": "python3",
      "display_name": "Python 3"
    },
    "language_info": {
      "name": "python"
    }
  },
  "cells": [
    {
      "cell_type": "markdown",
      "metadata": {
        "id": "view-in-github",
        "colab_type": "text"
      },
      "source": [
        "<a href=\"https://colab.research.google.com/github/zyf2021/Arithmetic_Formatter/blob/main/Arithmetic_Formatter.ipynb\" target=\"_parent\"><img src=\"https://colab.research.google.com/assets/colab-badge.svg\" alt=\"Open In Colab\"/></a>"
      ]
    },
    {
      "cell_type": "code",
      "execution_count": null,
      "metadata": {
        "colab": {
          "base_uri": "https://localhost:8080/"
        },
        "id": "z1939Mvz7Y64",
        "outputId": "91769c7e-99eb-46bc-d618-5482ea4cbfb2"
      },
      "outputs": [
        {
          "output_type": "stream",
          "name": "stdout",
          "text": [
            "234 \n",
            " + 8\n"
          ]
        }
      ],
      "source": [
        "print(234,'\\n','+',8)\n",
        "#([\"32 + 698\", \"3801 - 2\", \"45 + 43\", \"123 + 49\"])"
      ]
    },
    {
      "cell_type": "code",
      "source": [
        "def arithmetic_arranger(self):\n",
        "  \n",
        "  return self"
      ],
      "metadata": {
        "id": "bcURPnAu7-WR"
      },
      "execution_count": null,
      "outputs": []
    },
    {
      "cell_type": "code",
      "source": [
        "a_list = [\"32 + 69\", \"3801 - 2\", \"45 + 43\", \"123 + 49\"]"
      ],
      "metadata": {
        "id": "MEZYrkDD9DyX"
      },
      "execution_count": 3,
      "outputs": []
    },
    {
      "cell_type": "code",
      "source": [
        "def get_dashes(n):\n",
        "  dashes = ''\n",
        "  for i in range(n+1):\n",
        "    dashes += '-'\n",
        "  return dashes"
      ],
      "metadata": {
        "id": "1odkSQgrKvB0"
      },
      "execution_count": 13,
      "outputs": []
    },
    {
      "cell_type": "code",
      "source": [
        "def get_spaces(n, len_1, len_2):\n",
        "  n = abs(len_1 - len_2)\n",
        "  spaces = ''\n",
        "  for i in range(n):\n",
        "    spaces += ' '\n",
        "  return spaces"
      ],
      "metadata": {
        "id": "RDGO_2qJKvKB"
      },
      "execution_count": 14,
      "outputs": []
    },
    {
      "cell_type": "code",
      "source": [
        "def form_str_right(str_to_format, max_len, str_to_format_1 = '', sign = ''):\n",
        "  #str_format - это текущая строка с числом\n",
        "  #max_len - максимальная необходимая длина строки\n",
        "  #str_to_format_1 - строка первого слагаемого для вычисления количтсева пробелов от знака до вторго числа\n",
        "  #знак\n",
        "  if sign == '':\n",
        "    n_spaces = max_len - len(str_to_format)\n",
        "    str_spaces = ' '\n",
        "    for i in range(n_spaces):\n",
        "      str_spaces += ' '\n",
        "  if (sign != '')&(str_to_format_1 != ''):\n",
        "    n_spaces =  abs(len(str_to_format) - len(str_to_format_1))\n",
        "    str_spaces = sign + ' '\n",
        "    for i in range(n_spaces):\n",
        "      str_spaces += ' '\n",
        "  return str_spaces + str_to_format + '    '"
      ],
      "metadata": {
        "id": "Vk4lOQ2GKvSy"
      },
      "execution_count": 15,
      "outputs": []
    },
    {
      "cell_type": "code",
      "source": [],
      "metadata": {
        "id": "1sUCgTOJ9IWx"
      },
      "execution_count": null,
      "outputs": []
    },
    {
      "cell_type": "code",
      "source": [
        "##%%time\n",
        "answers = []\n",
        "str_term = []\n",
        "str_term_2 = []\n",
        "str_term_3 = []\n",
        "str_term_4 = []\n",
        "for i in range(len(a_list)):\n",
        "  str_split = a_list[i].split()\n",
        "  max_len = max(len(str_split[0]),len(str_split[2])) + 1\n",
        "  if (str_split[1] == '+'):\n",
        "    answers.append(int(str_split[0])+int(str_split[2]))\n",
        "  if (str_split[1] == '-'):\n",
        "    answers.append(int(str_split[0])-int(str_split[2]))\n",
        "  str_term.append(form_str_right(str_split[0], max_len))\n",
        "  ##форматирование должно учитывать\n",
        "  #str_term_2.append(str_split[1]+get_spaces(max_len,len(str_split[0]),len(str_split[2]))+str_split[2]+'    ')\n",
        "  str_term_2.append(form_str_right(str_split[2],max_len, str_split[0], str_split[1]))\n",
        "  str_term_3.append(get_dashes(max_len) + '    ')\n",
        "  str_term_4.append(form_str_right(str(answers[i]), max_len))"
      ],
      "metadata": {
        "id": "-gcVllkfGMut"
      },
      "execution_count": 16,
      "outputs": []
    },
    {
      "cell_type": "code",
      "source": [
        "answers"
      ],
      "metadata": {
        "colab": {
          "base_uri": "https://localhost:8080/"
        },
        "id": "FlUwgP29NGrS",
        "outputId": "702472fa-c657-4ce1-c1b8-e827b78a03b3"
      },
      "execution_count": 17,
      "outputs": [
        {
          "output_type": "execute_result",
          "data": {
            "text/plain": [
              "[101, 3799, 88, 172]"
            ]
          },
          "metadata": {},
          "execution_count": 17
        }
      ]
    },
    {
      "cell_type": "code",
      "source": [
        "print(str_term)\n",
        "print(str_term_2)\n",
        "print(str_term_3)\n",
        "print(str_term_4)"
      ],
      "metadata": {
        "colab": {
          "base_uri": "https://localhost:8080/"
        },
        "id": "y00Z19WmNL0O",
        "outputId": "49377d62-0820-41e9-872d-e1edc40c51d7"
      },
      "execution_count": 19,
      "outputs": [
        {
          "output_type": "stream",
          "name": "stdout",
          "text": [
            "['  32    ', '  3801    ', '  45    ', '  123    ']\n",
            "['+ 69    ', '-    2    ', '+ 43    ', '+  49    ']\n",
            "['----    ', '------    ', '----    ', '-----    ']\n",
            "[' 101    ', '  3799    ', '  88    ', '  172    ']\n"
          ]
        }
      ]
    },
    {
      "cell_type": "code",
      "source": [
        "for i in range(4):\n",
        "  print(str_term[i],  end = \"\") \n",
        "print()\n",
        "for i in range(4):\n",
        "  print(str_term_2[i],  end = \"\")\n",
        "print()\n",
        "for i in range(4):\n",
        "  print(str_term_3[i],  end = \"\")\n",
        "print()\n",
        "for i in range(4):\n",
        "  print(str_term_4[i],  end = \"\")    "
      ],
      "metadata": {
        "colab": {
          "base_uri": "https://localhost:8080/"
        },
        "id": "fs7h3oxoWcyf",
        "outputId": "643bee39-b956-49f1-fb6a-55e92d9b32c0"
      },
      "execution_count": 32,
      "outputs": [
        {
          "output_type": "stream",
          "name": "stdout",
          "text": [
            "  32      3801      45      123    \n",
            "+ 69    -    2    + 43    +  49    \n",
            "----    ------    ----    -----    \n",
            " 101      3799      88      172    "
          ]
        }
      ]
    },
    {
      "cell_type": "code",
      "source": [
        "arr_row = []\n"
      ],
      "metadata": {
        "id": "eJoNx84J-E5K"
      },
      "execution_count": null,
      "outputs": []
    },
    {
      "cell_type": "code",
      "source": [
        "max_len = max(len(str_split[0]),len(str_split[2]))\n",
        "max_len"
      ],
      "metadata": {
        "colab": {
          "base_uri": "https://localhost:8080/"
        },
        "id": "pW59TIShBmhz",
        "outputId": "9e40e0f8-eced-424b-e897-1d5b62534534"
      },
      "execution_count": null,
      "outputs": [
        {
          "output_type": "execute_result",
          "data": {
            "text/plain": [
              "4"
            ]
          },
          "metadata": {},
          "execution_count": 23
        }
      ]
    },
    {
      "cell_type": "code",
      "source": [
        "dashes = ''\n",
        "for i in range(max_len+1):\n",
        "  dashes += '-'\n",
        "dashes"
      ],
      "metadata": {
        "colab": {
          "base_uri": "https://localhost:8080/",
          "height": 35
        },
        "id": "5V5vXQY7Bxc_",
        "outputId": "a9e9f02f-6309-419c-ae96-4b98cc17c946"
      },
      "execution_count": null,
      "outputs": [
        {
          "output_type": "execute_result",
          "data": {
            "text/plain": [
              "'-----'"
            ],
            "application/vnd.google.colaboratory.intrinsic+json": {
              "type": "string"
            }
          },
          "metadata": {},
          "execution_count": 27
        }
      ]
    },
    {
      "cell_type": "code",
      "source": [
        "spaces = ''\n",
        "n = abs(len(str_split[0])- len(str_split[2]))\n",
        "for i in range(n):\n",
        "  spaces += ' '\n",
        "n"
      ],
      "metadata": {
        "colab": {
          "base_uri": "https://localhost:8080/"
        },
        "id": "uwzF8u4qDMCL",
        "outputId": "f5e8e6bb-8851-4353-e86a-9f701c2e4ef1"
      },
      "execution_count": null,
      "outputs": [
        {
          "output_type": "execute_result",
          "data": {
            "text/plain": [
              "3"
            ]
          },
          "metadata": {},
          "execution_count": 29
        }
      ]
    },
    {
      "cell_type": "code",
      "source": [
        "out_put = ' ' + str_split[0] + '\\n' + str_split[1] + spaces + str_split[2] + '\\n' + dashes\n",
        "print(out_put)"
      ],
      "metadata": {
        "colab": {
          "base_uri": "https://localhost:8080/"
        },
        "id": "BX-nVc1N_qOZ",
        "outputId": "adfb698f-06d8-4d9b-8468-6aa98ce0a91a"
      },
      "execution_count": null,
      "outputs": [
        {
          "output_type": "stream",
          "name": "stdout",
          "text": [
            " 3801\n",
            "-   2\n",
            "-----\n"
          ]
        }
      ]
    }
  ]
}